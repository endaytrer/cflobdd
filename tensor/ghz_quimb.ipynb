{
 "cells": [
  {
   "cell_type": "code",
   "execution_count": 110,
   "metadata": {},
   "outputs": [],
   "source": [
    "import quimb.tensor as qtn\n",
    "import quimb as qu\n",
    "import numpy as np\n",
    "import math\n",
    "import random"
   ]
  },
  {
   "cell_type": "code",
   "execution_count": 111,
   "metadata": {},
   "outputs": [],
   "source": [
    "N = 256\n",
    "allZeros = \"\"\n",
    "allOnes = \"\"\n",
    "for i in range(0, N):\n",
    "    allZeros += \"0\"\n",
    "    allOnes += \"1\"\n",
    "compress = True"
   ]
  },
  {
   "cell_type": "code",
   "execution_count": 112,
   "metadata": {},
   "outputs": [],
   "source": [
    "hadamard_matrix = np.array([[1,1],[1,-1]]) * 1/math.sqrt(2)\n",
    "hadamard_tensors = []\n",
    "for m in range(0, N):\n",
    "    hadamard_tensors.append(qtn.Tensor(data=hadamard_matrix, inds=[\"hi_{}\".format(m), \"hj_{}\".format(m)], tags=(\"I_{}\".format(m))))\n",
    "\n",
    "hadamard_tn = qtn.TensorNetwork(hadamard_tensors)\n",
    "\n",
    "hadamard_mpo = qtn.MatrixProductOperator.from_TN(hadamard_tn,\n",
    "site_tag_id='I_{}',\n",
    "    upper_ind_id='hj_{}',\n",
    "    lower_ind_id='hi_{}',\n",
    "    cyclic=False,\n",
    "    L=N)"
   ]
  },
  {
   "cell_type": "code",
   "execution_count": 113,
   "metadata": {},
   "outputs": [],
   "source": [
    "# Oracle\n",
    "\n",
    "to0 = np.zeros((2,2,2))\n",
    "to0[0][0][0] = 1\n",
    "to0[1][1][1] = 1\n",
    "\n",
    "to_datas = [to0]\n",
    "\n",
    "for i in range(1, N-1):\n",
    "    t_k = np.zeros((2,2,2,2))\n",
    "    t_k[0][0][0][0] = 1\n",
    "    t_k[0][1][1][1] = 1\n",
    "    t_k[1][0][0][1] = 1\n",
    "    t_k[1][1][1][0] = 1\n",
    "    to_datas.append(t_k)\n",
    "\n",
    "ton = np.zeros((2,2,2))\n",
    "ton[0][0][0] = 1\n",
    "ton[0][1][1] = 1\n",
    "ton[1][0][1] = 1\n",
    "ton[1][1][0] = 1\n",
    "\n",
    "to_datas.append(ton)\n",
    "\n",
    "oracle_tensors = []\n",
    "\n",
    "oracle_tensor_0 = qtn.Tensor(data=to0, inds=[\"oi_0\", \"oj_0\",\"0\"], tags=(\"I_0\"))\n",
    "oracle_tensors.append(oracle_tensor_0)\n",
    "\n",
    "for i in range(1, N-1):\n",
    "    oracle_tensors.append(qtn.Tensor(data=to_datas[i], inds=[\"{}\".format(i-1), \"oi_{}\".format(i), \"oj_{}\".format(i), \"{}\".format(i)], tags=(\"I_{}\".format(i))))\n",
    "\n",
    "oracle_tensor_n = qtn.Tensor(data=ton, inds=[\"{}\".format(N-2), \"oi_{}\".format(N-1), \"oj_{}\".format(N-1)], tags=(\"I_{}\".format(N-1)))\n",
    "oracle_tensors.append(oracle_tensor_n)\n",
    "oracle_tn = qtn.TensorNetwork(oracle_tensors)\n",
    "# oracle_tn.draw(show_inds='all', show_tags = True)"
   ]
  },
  {
   "cell_type": "code",
   "execution_count": 114,
   "metadata": {},
   "outputs": [],
   "source": [
    "oracle_mpo = qtn.MatrixProductOperator.from_TN(oracle_tn,\n",
    "site_tag_id='I_{}',\n",
    "    upper_ind_id='oj_{}',\n",
    "    lower_ind_id='oi_{}',\n",
    "    cyclic=False,\n",
    "    L=N)"
   ]
  },
  {
   "cell_type": "code",
   "execution_count": 115,
   "metadata": {},
   "outputs": [],
   "source": [
    "# Init State\n",
    "\n",
    "init_t0 = np.array([1, 0])\n",
    "\n",
    "init_tensors = []\n",
    "\n",
    "for i in range(0, N):\n",
    "    init_tensors.append(qtn.Tensor(data=init_t0, inds=[\"ii_{}\".format(i)], tags=(\"I_{}\".format(i))))\n",
    "\n",
    "init_tn = qtn.TensorNetwork(init_tensors)\n",
    "# init_tn.draw(show_inds='all', show_tags = True)\n",
    "\n",
    "init_mps = qtn.MatrixProductState.from_TN(init_tn,\n",
    "site_ind_id='ii_{}',\n",
    "site_tag_id='I_{}',\n",
    "    cyclic=False,\n",
    "    L=N)"
   ]
  },
  {
   "cell_type": "code",
   "execution_count": 116,
   "metadata": {},
   "outputs": [],
   "source": [
    "# # Init State\n",
    "\n",
    "# init_t0 = np.array([1, 1]) * 1/math.sqrt(2)\n",
    "# x_t0 = np.array([0, 1])\n",
    "\n",
    "# init_tensors = []\n",
    "\n",
    "# for i in range(0, N-1):\n",
    "#     init_tensors.append(qtn.Tensor(data=init_t0, inds=[\"ii_{}\".format(i)], tags=(\"I_{}\".format(i))))\n",
    "# init_tensors.append(qtn.Tensor(data=x_t0, inds=[\"ii_{}\".format(N-1)], tags=(\"I_{}\".format(N-1))))\n",
    "\n",
    "# init_tn = qtn.TensorNetwork(init_tensors)\n",
    "# # init_tn.draw(show_inds='all', show_tags = True)\n",
    "\n",
    "# init_mps = qtn.MatrixProductState.from_TN(init_tn,\n",
    "# site_ind_id='ii_{}',\n",
    "# site_tag_id='I_{}',\n",
    "#     cyclic=False,\n",
    "#     L=N)"
   ]
  },
  {
   "cell_type": "code",
   "execution_count": 117,
   "metadata": {},
   "outputs": [],
   "source": [
    "x_matrix = np.zeros((2, 2))\n",
    "x_matrix[0][1] = 1\n",
    "x_matrix[1][0] = 1\n",
    "h_matrix = np.array([[1,1],[1,-1]]) * 1/math.sqrt(2)\n",
    "x_tensors = [qtn.Tensor(data=h_matrix, inds=[\"xi_{}\".format(i), \"xj_{}\".format(i)], tags=(\"I_{}\".format(i))) for i in range(0, N-1)]\n",
    "x_tensors.append(qtn.Tensor(data=x_matrix, inds=[\"xi_{}\".format(N-1), \"xj_{}\".format(N-1)], tags=(\"I_{}\".format(N-1))))\n",
    "x_tn = qtn.TensorNetwork(x_tensors)\n",
    "x_mpo = qtn.MatrixProductOperator.from_TN(x_tn,\n",
    "site_tag_id='I_{}',\n",
    "    upper_ind_id='xj_{}',\n",
    "    lower_ind_id='xi_{}',\n",
    "    cyclic=False,\n",
    "    L=N)"
   ]
  },
  {
   "cell_type": "code",
   "execution_count": 128,
   "metadata": {},
   "outputs": [],
   "source": [
    "out = x_mpo.apply(init_mps)\n",
    "out = oracle_mpo.apply(out, compress=compress)\n",
    "out = hadamard_mpo.apply(out, compress=compress)\n"
   ]
  },
  {
   "cell_type": "code",
   "execution_count": 129,
   "metadata": {},
   "outputs": [
    {
     "name": "stdout",
     "output_type": "stream",
     "text": [
      "True\n"
     ]
    }
   ],
   "source": [
    "for j in range(0, 10):\n",
    "    b = \"\"\n",
    "    final_mps = out\n",
    "    for i in range(0, N):\n",
    "        (sampled_s, final_mps) = final_mps.measure(i)\n",
    "        b += str(sampled_s)\n",
    "\n",
    "    if b == allZeros or b == allOnes:\n",
    "        is_correct = True\n",
    "        break\n",
    "print(is_correct)"
   ]
  },
  {
   "cell_type": "code",
   "execution_count": 120,
   "metadata": {},
   "outputs": [],
   "source": [
    "# circ = qtn.Circuit(psi0=out)"
   ]
  },
  {
   "cell_type": "code",
   "execution_count": 126,
   "metadata": {},
   "outputs": [
    {
     "ename": "ValueError",
     "evalue": "probabilities contain NaN",
     "output_type": "error",
     "traceback": [
      "\u001b[0;31m---------------------------------------------------------------------------\u001b[0m",
      "\u001b[0;31mValueError\u001b[0m                                Traceback (most recent call last)",
      "Cell \u001b[0;32mIn[126], line 3\u001b[0m\n\u001b[1;32m      1\u001b[0m sampled_s \u001b[38;5;241m=\u001b[39m \u001b[38;5;124m\"\u001b[39m\u001b[38;5;124m\"\u001b[39m\n\u001b[1;32m      2\u001b[0m is_correct \u001b[38;5;241m=\u001b[39m \u001b[38;5;28;01mFalse\u001b[39;00m\n\u001b[0;32m----> 3\u001b[0m \u001b[38;5;28;01mfor\u001b[39;00m b \u001b[38;5;129;01min\u001b[39;00m circ\u001b[38;5;241m.\u001b[39msample(\u001b[38;5;241m100\u001b[39m):\n\u001b[1;32m      4\u001b[0m     \u001b[38;5;28;01mif\u001b[39;00m b \u001b[38;5;241m==\u001b[39m allZeros \u001b[38;5;129;01mor\u001b[39;00m b \u001b[38;5;241m==\u001b[39m allOnes:\n\u001b[1;32m      5\u001b[0m         sampled_s \u001b[38;5;241m=\u001b[39m b\n",
      "File \u001b[0;32m~/Library/Python/3.9/lib/python/site-packages/quimb/tensor/circuit.py:2804\u001b[0m, in \u001b[0;36mCircuit.sample\u001b[0;34m(self, C, qubits, order, group_size, max_marginal_storage, seed, optimize, backend, dtype, simplify_sequence, simplify_atol, simplify_equalize_norms, target_size)\u001b[0m\n\u001b[1;32m   2801\u001b[0m     p \u001b[39m=\u001b[39m \u001b[39mself\u001b[39m\u001b[39m.\u001b[39m_sampled_conditionals[key]\n\u001b[1;32m   2803\u001b[0m \u001b[39m# the sampled bitstring e.g. '1' or '001010101'\u001b[39;00m\n\u001b[0;32m-> 2804\u001b[0m b_where \u001b[39m=\u001b[39m sample_bitstring_from_prob_ndarray(p)\n\u001b[1;32m   2806\u001b[0m \u001b[39m# split back into individual qubit results\u001b[39;00m\n\u001b[1;32m   2807\u001b[0m \u001b[39mfor\u001b[39;00m q, b \u001b[39min\u001b[39;00m \u001b[39mzip\u001b[39m(where, b_where):\n",
      "File \u001b[0;32m~/Library/Python/3.9/lib/python/site-packages/quimb/tensor/circuit.py:1035\u001b[0m, in \u001b[0;36msample_bitstring_from_prob_ndarray\u001b[0;34m(p)\u001b[0m\n\u001b[1;32m   1023\u001b[0m \u001b[39mdef\u001b[39;00m \u001b[39msample_bitstring_from_prob_ndarray\u001b[39m(p):\n\u001b[1;32m   1024\u001b[0m \u001b[39m    \u001b[39m\u001b[39m\"\"\"Sample a bitstring from n-dimensional tensor ``p`` of probabilities.\u001b[39;00m\n\u001b[1;32m   1025\u001b[0m \n\u001b[1;32m   1026\u001b[0m \u001b[39m    Examples\u001b[39;00m\n\u001b[0;32m   (...)\u001b[0m\n\u001b[1;32m   1033\u001b[0m \u001b[39m        '01011'\u001b[39;00m\n\u001b[1;32m   1034\u001b[0m \u001b[39m    \"\"\"\u001b[39;00m\n\u001b[0;32m-> 1035\u001b[0m     b \u001b[39m=\u001b[39m np\u001b[39m.\u001b[39;49mrandom\u001b[39m.\u001b[39;49mchoice(np\u001b[39m.\u001b[39;49marange(p\u001b[39m.\u001b[39;49msize), p\u001b[39m=\u001b[39;49mp\u001b[39m.\u001b[39;49mflat)\n\u001b[1;32m   1036\u001b[0m     \u001b[39mreturn\u001b[39;00m \u001b[39mf\u001b[39m\u001b[39m\"\u001b[39m\u001b[39m{\u001b[39;00mb\u001b[39m:\u001b[39;00m\u001b[39m0>\u001b[39m\u001b[39m{\u001b[39;00mp\u001b[39m.\u001b[39mndim\u001b[39m}\u001b[39;00m\u001b[39mb\u001b[39m\u001b[39m}\u001b[39;00m\u001b[39m\"\u001b[39m\n",
      "File \u001b[0;32mmtrand.pyx:954\u001b[0m, in \u001b[0;36mnumpy.random.mtrand.RandomState.choice\u001b[0;34m()\u001b[0m\n",
      "\u001b[0;31mValueError\u001b[0m: probabilities contain NaN"
     ]
    }
   ],
   "source": [
    "# sampled_s = \"\"\n",
    "# is_correct = False\n",
    "# for b in circ.sample(100):\n",
    "#     if b == allZeros or b == allOnes:\n",
    "#         sampled_s = b\n",
    "#         is_correct = True\n",
    "#         break\n",
    "# print(is_correct, sampled_s)"
   ]
  },
  {
   "cell_type": "code",
   "execution_count": null,
   "metadata": {},
   "outputs": [],
   "source": [
    "\n",
    "\n",
    "# is_correct = False\n",
    "# sampled_s = \"\"\n",
    "# for i in range(0,10):\n",
    "#     index = np.random.choice(len(result), p=result)\n",
    "#     index_s = bin(index)[2:].zfill(N)\n",
    "#     # print(index_s)\n",
    "#     if index_s == s:\n",
    "#         is_correct = True \n",
    "#         sampled_s = index_s\n",
    "#         break\n",
    "\n",
    "# print(is_correct, s, sampled_s)"
   ]
  }
 ],
 "metadata": {
  "kernelspec": {
   "display_name": "Python (tensor)",
   "language": "python",
   "name": "tensor"
  },
  "language_info": {
   "codemirror_mode": {
    "name": "ipython",
    "version": 3
   },
   "file_extension": ".py",
   "mimetype": "text/x-python",
   "name": "python",
   "nbconvert_exporter": "python",
   "pygments_lexer": "ipython3",
   "version": "3.9.6"
  },
  "orig_nbformat": 4,
  "vscode": {
   "interpreter": {
    "hash": "ba71e2a86df84388ebf1fffbfd413d60157924c3f879e3aaaab499c14e81ea7a"
   }
  }
 },
 "nbformat": 4,
 "nbformat_minor": 2
}
