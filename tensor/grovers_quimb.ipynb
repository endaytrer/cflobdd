{
 "cells": [
  {
   "cell_type": "code",
   "execution_count": 112,
   "metadata": {},
   "outputs": [],
   "source": [
    "import quimb.tensor as qtn\n",
    "import quimb as qu\n",
    "import numpy as np\n",
    "import math\n",
    "import random"
   ]
  },
  {
   "cell_type": "code",
   "execution_count": 113,
   "metadata": {},
   "outputs": [
    {
     "name": "stdout",
     "output_type": "stream",
     "text": [
      "10110100111001101000110100111001\n"
     ]
    }
   ],
   "source": [
    "N = 32\n",
    "s = \"\"\n",
    "for i in range(0, N):\n",
    "    r = random.randint(0, 1)\n",
    "    if r == 0:\n",
    "        s = s + \"0\"\n",
    "    else:\n",
    "        s = s + \"1\"\n",
    "print(s)\n",
    "compress = True\n",
    "def check_bit_in_s(s, i, k):\n",
    "    return (s[k] == i)"
   ]
  },
  {
   "cell_type": "code",
   "execution_count": 114,
   "metadata": {},
   "outputs": [],
   "source": [
    "# Mean operator\n",
    "\n",
    "t0 = np.zeros((2,2,2))\n",
    "t0[0][0][0] = 1\n",
    "t0[1][1][1] = 1\n",
    "\n",
    "t_datas = [t0]\n",
    "\n",
    "for i in range(1, N-1):\n",
    "    t_k = np.zeros((2,2,2,2))\n",
    "    t_k[0][0][0][0] = 1\n",
    "    t_k[0][1][1][1] = 1\n",
    "    t_k[1][0][0][1] = 1\n",
    "    t_k[1][1][1][1] = 1\n",
    "    t_datas.append(t_k)\n",
    "\n",
    "tn = np.zeros((2,2,2))\n",
    "tn[0][0][0] = 1\n",
    "tn[0][1][1] = -1\n",
    "tn[1][0][0] = -1\n",
    "tn[1][1][1] = -1\n",
    "\n",
    "t_datas.append(tn)\n",
    "\n",
    "tensors = []\n",
    "\n",
    "tensor_0 = qtn.Tensor(data=t0, inds=[\"i_0\", \"j_0\",\"0\"], tags=(\"I_0\"))\n",
    "tensors.append(tensor_0)\n",
    "\n",
    "for i in range(1, N-1):\n",
    "    tensors.append(qtn.Tensor(data=t_datas[i], inds=[\"{}\".format(i-1), \"i_{}\".format(i), \"j_{}\".format(i), \"{}\".format(i)], tags=(\"I_{}\".format(i))))\n",
    "\n",
    "tensor_n = qtn.Tensor(data=tn, inds=[\"{}\".format(N-2), \"i_{}\".format(N-1), \"j_{}\".format(N-1)], tags=(\"I_{}\".format(N-1)))\n",
    "tensors.append(tensor_n)\n",
    "tn = qtn.TensorNetwork(tensors)\n",
    "# tn.draw(show_inds='all', show_tags = True)"
   ]
  },
  {
   "cell_type": "code",
   "execution_count": 115,
   "metadata": {},
   "outputs": [],
   "source": [
    "mean_mpo = qtn.MatrixProductOperator.from_TN(tn,\n",
    "site_tag_id='I_{}',\n",
    "    upper_ind_id='j_{}',\n",
    "    lower_ind_id='i_{}',\n",
    "    cyclic=False,\n",
    "    L=N)"
   ]
  },
  {
   "cell_type": "code",
   "execution_count": 116,
   "metadata": {},
   "outputs": [],
   "source": [
    "hadamard_matrix = np.array([[1,1],[1,-1]]) * 1/np.sqrt(2)\n",
    "hadamard_tensors = []\n",
    "for m in range(0, N):\n",
    "    hadamard_tensors.append(qtn.Tensor(data=hadamard_matrix, inds=[\"hi_{}\".format(m), \"hj_{}\".format(m)], tags=(\"I_{}\".format(m))))\n",
    "\n",
    "hadamard_tn = qtn.TensorNetwork(hadamard_tensors)\n",
    "\n",
    "hadamard_mpo = qtn.MatrixProductOperator.from_TN(hadamard_tn,\n",
    "site_tag_id='I_{}',\n",
    "    upper_ind_id='hj_{}',\n",
    "    lower_ind_id='hi_{}',\n",
    "    cyclic=False,\n",
    "    L=N)"
   ]
  },
  {
   "cell_type": "code",
   "execution_count": 117,
   "metadata": {},
   "outputs": [],
   "source": [
    "diffusion_mpo = mean_mpo.apply(hadamard_mpo, compress=compress)\n",
    "diffusion_mpo = hadamard_mpo.apply(diffusion_mpo, compress=compress)"
   ]
  },
  {
   "cell_type": "code",
   "execution_count": 118,
   "metadata": {},
   "outputs": [],
   "source": [
    "# Oracle\n",
    "\n",
    "to0 = np.zeros((2,2,2))\n",
    "to0[0][0][0] = check_bit_in_s(s, '0', 0)\n",
    "to0[1][1][0] = check_bit_in_s(s, '1', 0)\n",
    "to0[1][1][1] = (1 - check_bit_in_s(s, '1', 0))\n",
    "to0[0][0][1] = (1 - check_bit_in_s(s, '0', 0))\n",
    "\n",
    "to_datas = [to0]\n",
    "\n",
    "for i in range(1, N-1):\n",
    "    t_k = np.zeros((2,2,2,2))\n",
    "    t_k[0][0][0][0] = check_bit_in_s(s, '0', i)\n",
    "    t_k[0][0][0][1] = (1 - check_bit_in_s(s, '0', i))\n",
    "    t_k[0][1][1][0] = check_bit_in_s(s, '1', i)\n",
    "    t_k[0][1][1][1] = (1 - check_bit_in_s(s, '1', i))\n",
    "    t_k[1][0][0][1] = 1\n",
    "    t_k[1][1][1][1] = 1\n",
    "    to_datas.append(t_k)\n",
    "\n",
    "ton = np.zeros((2,2,2))\n",
    "ton[0][0][0] = (-1 * check_bit_in_s(s, '0', N-1) + (1 - check_bit_in_s(s, '0', N-1)))\n",
    "ton[0][1][1] = (-1 * check_bit_in_s(s, '1', N-1) + (1 - check_bit_in_s(s, '1', N-1)))\n",
    "ton[1][0][0] = 1\n",
    "ton[1][1][1] = 1\n",
    "\n",
    "to_datas.append(ton)\n",
    "\n",
    "oracle_tensors = []\n",
    "\n",
    "oracle_tensor_0 = qtn.Tensor(data=to0, inds=[\"oi_0\", \"oj_0\",\"0\"], tags=(\"I_0\"))\n",
    "oracle_tensors.append(oracle_tensor_0)\n",
    "\n",
    "for i in range(1, N-1):\n",
    "    oracle_tensors.append(qtn.Tensor(data=to_datas[i], inds=[\"{}\".format(i-1), \"oi_{}\".format(i), \"oj_{}\".format(i), \"{}\".format(i)], tags=(\"I_{}\".format(i))))\n",
    "\n",
    "oracle_tensor_n = qtn.Tensor(data=ton, inds=[\"{}\".format(N-2), \"oi_{}\".format(N-1), \"oj_{}\".format(N-1)], tags=(\"I_{}\".format(N-1)))\n",
    "oracle_tensors.append(oracle_tensor_n)\n",
    "oracle_tn = qtn.TensorNetwork(oracle_tensors)\n",
    "# oracle_tn.draw(show_inds='all', show_tags = True)"
   ]
  },
  {
   "cell_type": "code",
   "execution_count": 119,
   "metadata": {},
   "outputs": [],
   "source": [
    "oracle_mpo = qtn.MatrixProductOperator.from_TN(oracle_tn,\n",
    "site_tag_id='I_{}',\n",
    "    upper_ind_id='oj_{}',\n",
    "    lower_ind_id='oi_{}',\n",
    "    cyclic=False,\n",
    "    L=N)"
   ]
  },
  {
   "cell_type": "code",
   "execution_count": 120,
   "metadata": {},
   "outputs": [],
   "source": [
    "operator_mpo = diffusion_mpo.apply(oracle_mpo, compress=compress)"
   ]
  },
  {
   "cell_type": "code",
   "execution_count": 121,
   "metadata": {},
   "outputs": [],
   "source": [
    "iters = math.floor((math.pi/4 * math.sqrt((2 ** N))))"
   ]
  },
  {
   "cell_type": "code",
   "execution_count": 122,
   "metadata": {},
   "outputs": [],
   "source": [
    "# Init State after first hadamard\n",
    "\n",
    "init_t0 = np.array([1, 1]) * 1/np.sqrt(2)\n",
    "\n",
    "init_tensors = []\n",
    "\n",
    "for i in range(0, N):\n",
    "    init_tensors.append(qtn.Tensor(data=init_t0, inds=[\"ii_{}\".format(i)], tags=(\"I_{}\".format(i))))\n",
    "\n",
    "init_tn = qtn.TensorNetwork(init_tensors)\n",
    "# init_tn.draw(show_inds='all', show_tags = True)\n",
    "\n",
    "init_mps = qtn.MatrixProductState.from_TN(init_tn,\n",
    "site_ind_id='ii_{}',\n",
    "site_tag_id='I_{}',\n",
    "    cyclic=False,\n",
    "    L=N)"
   ]
  },
  {
   "cell_type": "code",
   "execution_count": 123,
   "metadata": {},
   "outputs": [],
   "source": [
    "def multiply_operator(hash_map, iters, oper):\n",
    "    # print(iters, iters in hash_map)\n",
    "    if iters in hash_map:\n",
    "        return hash_map[iters]\n",
    "    if iters == 1:\n",
    "        hash_map[iters] = oper\n",
    "        return oper\n",
    "    if iters == 2:\n",
    "        op = oper.apply(oper, compress=compress)\n",
    "        hash_map[iters] = op\n",
    "        return op\n",
    "    op1 = multiply_operator(hash_map, iters//2, oper)\n",
    "    op2 = multiply_operator(hash_map, iters - iters//2, oper)\n",
    "\n",
    "    op = op1.apply(op2, compress=compress)\n",
    "    hash_map[iters] = op\n",
    "    return op"
   ]
  },
  {
   "cell_type": "code",
   "execution_count": 124,
   "metadata": {},
   "outputs": [],
   "source": [
    "hash_map = {}\n",
    "# iters = 10\n",
    "# final_operator_mpo = multiply_operator(hash_map, iters, operator_mpo)\n",
    "# final_mps = final_operator_mpo.apply(init_mps, compress=compress)\n",
    "# final_mps = final_mps * 1/np.sqrt(2)\n"
   ]
  },
  {
   "cell_type": "code",
   "execution_count": 125,
   "metadata": {},
   "outputs": [],
   "source": [
    "# a = final_mps.to_dense()\n",
    "# print(s)\n",
    "# print(a[int(s, 2)])\n",
    "# print(a[0])"
   ]
  },
  {
   "cell_type": "code",
   "execution_count": 126,
   "metadata": {},
   "outputs": [],
   "source": [
    "final_mps = init_mps\n",
    "for i in range(0, iters):\n",
    "    final_mps = operator_mpo.apply(final_mps, compress=compress)"
   ]
  },
  {
   "cell_type": "code",
   "execution_count": 127,
   "metadata": {},
   "outputs": [],
   "source": [
    "# b = \"\"\n",
    "# is_correct = False\n",
    "# for j in range(0, 10):\n",
    "#     out = final_mps\n",
    "#     for i in range(0, N):\n",
    "#         (sampled_s, out) = out.measure(i)\n",
    "#         b += str(sampled_s)\n",
    "\n",
    "#     if b == s:\n",
    "#         is_correct = True\n",
    "#         break\n",
    "\n",
    "# print(is_correct, s, b)"
   ]
  },
  {
   "cell_type": "code",
   "execution_count": 128,
   "metadata": {},
   "outputs": [],
   "source": [
    "circ = qtn.Circuit(psi0=final_mps)"
   ]
  },
  {
   "cell_type": "code",
   "execution_count": 129,
   "metadata": {},
   "outputs": [
    {
     "name": "stdout",
     "output_type": "stream",
     "text": [
      "10110100111001101000110100111001\n",
      "True 10110100111001101000110100111001 10110100111001101000110100111001 32\n"
     ]
    }
   ],
   "source": [
    "sampled_s = \"\"\n",
    "is_correct = False\n",
    "print(s)\n",
    "for b in circ.sample(100):\n",
    "    if b == s:\n",
    "        sampled_s = b\n",
    "        is_correct = True\n",
    "        break\n",
    "print(is_correct, s, sampled_s, len(s))"
   ]
  },
  {
   "cell_type": "code",
   "execution_count": 130,
   "metadata": {},
   "outputs": [],
   "source": [
    "\n",
    "\n",
    "# is_correct = False\n",
    "# sampled_s = \"\"\n",
    "# for i in range(0,10):\n",
    "#     index = np.random.choice(len(result), p=result)\n",
    "#     index_s = bin(index)[2:].zfill(N)\n",
    "#     # print(index_s)\n",
    "#     if index_s == s:\n",
    "#         is_correct = True \n",
    "#         sampled_s = index_s\n",
    "#         break\n",
    "\n",
    "# print(is_correct, s, sampled_s)"
   ]
  }
 ],
 "metadata": {
  "kernelspec": {
   "display_name": "Python (tensor)",
   "language": "python",
   "name": "tensor"
  },
  "language_info": {
   "codemirror_mode": {
    "name": "ipython",
    "version": 3
   },
   "file_extension": ".py",
   "mimetype": "text/x-python",
   "name": "python",
   "nbconvert_exporter": "python",
   "pygments_lexer": "ipython3",
   "version": "3.9.6"
  },
  "orig_nbformat": 4,
  "vscode": {
   "interpreter": {
    "hash": "ba71e2a86df84388ebf1fffbfd413d60157924c3f879e3aaaab499c14e81ea7a"
   }
  }
 },
 "nbformat": 4,
 "nbformat_minor": 2
}
